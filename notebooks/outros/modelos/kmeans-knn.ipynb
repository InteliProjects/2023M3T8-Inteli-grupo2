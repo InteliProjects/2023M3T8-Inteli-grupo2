{
  "nbformat": 4,
  "nbformat_minor": 0,
  "metadata": {
    "colab": {
      "provenance": []
    },
    "kernelspec": {
      "name": "python3",
      "display_name": "Python 3"
    },
    "language_info": {
      "name": "python"
    }
  },
  "cells": [
    {
      "cell_type": "markdown",
      "source": [
        "Em resumo, este código lida com a análise de habilidades de candidatos e gestores, usando o K-Means para agrupar candidatos e k-NN para encontrar os candidatos mais adequados para cada gestor dentro do mesmo grupo.\n",
        "\n",
        "É uma ferramenta útil para auxiliar na tomada de decisões de alocação de pessoal com base em habilidades."
      ],
      "metadata": {
        "id": "SBygOz4j6uTC"
      }
    },
    {
      "cell_type": "code",
      "execution_count": null,
      "metadata": {
        "id": "u2sxu92x4xEI"
      },
      "outputs": [],
      "source": [
        "\n",
        "# Importes das bibliotecas que estão sendo usadas para a criação do modelo\n",
        "# Biblioteca do pandas como pd, numpy como np (ambas para fazer a análise dos dados)\n",
        "# matplotlib para colocar os gráficos, sklearn cluster e neghbors para a aplicação do modelo de fato\n",
        "import pandas as pd\n",
        "import numpy as np\n",
        "import matplotlib.pyplot as plt\n",
        "from sklearn.cluster import KMeans\n",
        "from sklearn.neighbors import NearestNeighbors\n",
        "\n",
        "# Ler os arquivos CSV\n",
        "# tabelas carregadas para a analise dos dados, 'olin-candidatos.csv' e 'olin-gestores.csv'\n",
        "df_candidatos = pd.read_csv('olin-cadidatos.csv')\n",
        "df_gestores = pd.read_csv('olin-gestores.csv')\n",
        "\n",
        "# Habilidades para levar em consideração\n",
        "# filtro das habilidades que estão sendo usadas para a aplicação do modelo\n",
        "habilidades = ['superfit_dis', 'superfit_sin', 'superfit_cur', 'superfit_int', 'superfit_eng', 'superfit_res']\n",
        "\n",
        "# Preparar os dados\n",
        "candidatos = df_candidatos[habilidades].to_numpy()\n",
        "gestores = df_gestores[habilidades].to_numpy()\n",
        "\n",
        "# Usar K-means para clusterizar os candidatos\n",
        "# Clusterizando os dados tanto dos candidatos como os dados dos gestores\n",
        "kmeans = KMeans(n_clusters=len(gestores), random_state=0).fit(candidatos)\n",
        "labels = kmeans.labels_\n",
        "\n",
        "# Para cada gestor, usar k-NN para encontrar o candidato mais próximo dentro do mesmo cluster\n",
        "for i, gestor in enumerate(gestores):\n",
        "    cluster = np.where(labels == i)[0]\n",
        "    candidatos_cluster = candidatos[cluster]\n",
        "\n",
        "    # Aplicar k-NN que é o modelo que estamos usando (modelo supervisionado)\n",
        "    knn = NearestNeighbors(n_neighbors=1).fit(candidatos_cluster)\n",
        "    _, indices = knn.kneighbors([gestor])\n",
        "\n",
        "    candidato_mais_proximo_index = indices[0][0]\n",
        "\n",
        "    # Identificar o melhor candidato para cada gestor\n",
        "    id_candidatos_cluster = df_candidatos.loc[cluster]['id'].to_numpy()\n",
        "    id_melhor_candidato = id_candidatos_cluster[candidato_mais_proximo_index]\n",
        "    print(f\"O melhor candidato para o Gestor {i+1} (ID do Gestor: {df_gestores.loc[i, 'id']}) é o Candidato com ID {id_melhor_candidato}\")\n",
        "\n",
        "# Plotar gráficos de pares\n",
        "# fig, ax = plt.subplots(len(habilidades), len(habilidades), figsize=(15, 15))\n",
        "\n",
        "# for i, habilidade1 in enumerate(habilidades):\n",
        "#     for j, habilidade2 in enumerate(habilidades):\n",
        "#         ax[i, j].scatter(df_candidatos[habilidade1], df_candidatos[habilidade2], c=labels, cmap='viridis')\n",
        "#         ax[i, j].scatter(df_gestores[habilidade1], df_gestores[habilidade2], c='red', marker='x')\n",
        "#         ax[i, j].set_xlabel(habilidade1)\n",
        "#         ax[i, j].set_ylabel(habilidade2)\n",
        "\n",
        "# plt.show()"
      ]
    }
  ]
}