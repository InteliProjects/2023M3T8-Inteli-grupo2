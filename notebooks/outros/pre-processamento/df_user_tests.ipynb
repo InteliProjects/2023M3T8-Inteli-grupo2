{
  "nbformat": 4,
  "nbformat_minor": 0,
  "metadata": {
    "colab": {
      "provenance": []
    },
    "kernelspec": {
      "name": "python3",
      "display_name": "Python 3"
    },
    "language_info": {
      "name": "python"
    }
  },
  "cells": [
    {
      "cell_type": "code",
      "execution_count": 22,
      "metadata": {
        "colab": {
          "base_uri": "https://localhost:8080/"
        },
        "id": "yxztDmmFBRBz",
        "outputId": "378338e6-883e-4a61-9bd6-63de429343da"
      },
      "outputs": [
        {
          "output_type": "stream",
          "name": "stdout",
          "text": [
            "            id ingles_conceito  ingles_nota excel_conceito  excel_nota  \\\n",
            "0       965467               0        0.000              0         0.0   \n",
            "1       457464              C1        9.244              0         0.0   \n",
            "2       951351               0        0.000              0         0.0   \n",
            "3       528907              A1        0.640         Básico         2.0   \n",
            "4       538766              A1        0.824  Intermediário         9.0   \n",
            "...        ...             ...          ...            ...         ...   \n",
            "72568  1047266              C1        9.232              0         0.0   \n",
            "72569  1087370              B2        7.668              0         0.0   \n",
            "72570  1093779              B2        8.296              0         0.0   \n",
            "72571  1092536              B2        7.084              0         0.0   \n",
            "72572   731000               0        0.000              0         0.0   \n",
            "\n",
            "       solu_conceito  solu_nota  \n",
            "0      Pré-Eficiente        3.2  \n",
            "1          Eficiente        6.8  \n",
            "2          Eficiente        5.9  \n",
            "3          Iniciante        1.5  \n",
            "4          Iniciante        0.7  \n",
            "...              ...        ...  \n",
            "72568      Eficiente        5.7  \n",
            "72569  Pré-Eficiente        3.6  \n",
            "72570  Pré-Eficiente        3.7  \n",
            "72571  Pré-Eficiente        2.8  \n",
            "72572      Iniciante        1.4  \n",
            "\n",
            "[72573 rows x 7 columns]\n"
          ]
        }
      ],
      "source": [
        "import pandas as pd\n",
        "\n",
        "# Carregar o arquivo CSV\n",
        "file_path = \"user_tests.csv\"\n",
        "df = pd.read_csv(file_path)\n",
        "\n",
        "# Lista das colunas que precisam ter os valores vazios substituídos por \"0\"\n",
        "columns_to_replace = [\"ingles_conceito\", \"ingles_nota\", \"excel_conceito\", \"excel_nota\", \"solu_conceito\", \"solu_nota\"]\n",
        "\n",
        "# Substituir valores vazios por \"0\" nas colunas selecionadas\n",
        "df[columns_to_replace] = df[columns_to_replace].fillna(0)\n",
        "\n",
        "# Salvar o DataFrame modificado de volta no arquivo CSV\n",
        "df.to_csv(file_path, index=False)\n",
        "\n",
        "print(df)"
      ]
    },
    {
      "cell_type": "markdown",
      "source": [
        "Nessa tabela, alguns campos estão vazios. Com o código acima, substituímos os campos nulos pelo número 0. Isso será importante quanto formos trabalhar com esses dados posteriormente."
      ],
      "metadata": {
        "id": "AlfZL8axCXgi"
      }
    },
    {
      "cell_type": "markdown",
      "source": [
        "Agora, devemos observar quais são os dados categóricos nas colunas \"ingles_conceito\", \"excel_conceito\" e \"solu_conceito\". Isso é feito no código abaixo."
      ],
      "metadata": {
        "id": "_QY6Rpr0C71J"
      }
    },
    {
      "cell_type": "code",
      "source": [
        "# Selecionar valores únicos das coluna \"ingles_conceito\", \"excel_conceito\" e \"solu_conceito\"\n",
        "print(df[\"ingles_conceito\"].unique())\n",
        "print(df[\"excel_conceito\"].unique())\n",
        "print(df[\"solu_conceito\"].unique())"
      ],
      "metadata": {
        "colab": {
          "base_uri": "https://localhost:8080/"
        },
        "id": "HJMFwvdRCr5m",
        "outputId": "9ed28776-6c02-40c5-9496-fd1d578e1bf9"
      },
      "execution_count": 23,
      "outputs": [
        {
          "output_type": "stream",
          "name": "stdout",
          "text": [
            "['0' 'C1' 'A1' 'A2' 'B1' 'B2']\n",
            "['0' 'Básico' 'Intermediário' 'Avançado']\n",
            "['Pré-Eficiente' 'Eficiente' 'Iniciante' 'Proficiente' '0']\n"
          ]
        }
      ]
    },
    {
      "cell_type": "markdown",
      "source": [
        "Agora, com os valores únicos encontrado em cada uma dessas colunas, vamos criar um mapeamento para transformar os dados que, inicialmente são categórios, em numéricos."
      ],
      "metadata": {
        "id": "RcCLFFsWDe-I"
      }
    },
    {
      "cell_type": "code",
      "source": [
        "ingles_mapping = {'0': 0, 'A1': 1, 'A2': 2, 'B1': 3, 'B2': 4, 'C1': 5}\n",
        "excel_mapping = {'0': 0, 'Básico': 1, 'Intermediário': 2, 'Avançado': 3}\n",
        "solu_mapping = {'0': 0, 'Iniciante': 1, 'Pré-Eficiente': 2, 'Eficiente': 3, 'Proficiente': 4}\n",
        "\n",
        "df[\"ingles_conceito\"] = df[\"ingles_conceito\"].map(ingles_mapping)\n",
        "df[\"excel_conceito\"] = df[\"excel_conceito\"].map(excel_mapping)\n",
        "df[\"solu_conceito\"] = df[\"solu_conceito\"].map(solu_mapping)\n",
        "\n",
        "print(df)"
      ],
      "metadata": {
        "colab": {
          "base_uri": "https://localhost:8080/"
        },
        "id": "4Sv3V2UzDxqm",
        "outputId": "926c563f-90cc-4110-cf5e-516fc9add2a7"
      },
      "execution_count": 24,
      "outputs": [
        {
          "output_type": "stream",
          "name": "stdout",
          "text": [
            "            id  ingles_conceito  ingles_nota  excel_conceito  excel_nota  \\\n",
            "0       965467                0        0.000               0         0.0   \n",
            "1       457464                5        9.244               0         0.0   \n",
            "2       951351                0        0.000               0         0.0   \n",
            "3       528907                1        0.640               1         2.0   \n",
            "4       538766                1        0.824               2         9.0   \n",
            "...        ...              ...          ...             ...         ...   \n",
            "72568  1047266                5        9.232               0         0.0   \n",
            "72569  1087370                4        7.668               0         0.0   \n",
            "72570  1093779                4        8.296               0         0.0   \n",
            "72571  1092536                4        7.084               0         0.0   \n",
            "72572   731000                0        0.000               0         0.0   \n",
            "\n",
            "       solu_conceito  solu_nota  \n",
            "0                  2        3.2  \n",
            "1                  3        6.8  \n",
            "2                  3        5.9  \n",
            "3                  1        1.5  \n",
            "4                  1        0.7  \n",
            "...              ...        ...  \n",
            "72568              3        5.7  \n",
            "72569              2        3.6  \n",
            "72570              2        3.7  \n",
            "72571              2        2.8  \n",
            "72572              1        1.4  \n",
            "\n",
            "[72573 rows x 7 columns]\n"
          ]
        }
      ]
    },
    {
      "cell_type": "markdown",
      "source": [
        "Por fim, exportamos o dataframe para um novo arquivo CSV."
      ],
      "metadata": {
        "id": "yRZ4l-MQG3gp"
      }
    },
    {
      "cell_type": "code",
      "source": [
        "df.to_csv(\"prep_df_user_tests.csv\", index=False)"
      ],
      "metadata": {
        "id": "G3HrIDFoG7aR"
      },
      "execution_count": 25,
      "outputs": []
    }
  ]
}