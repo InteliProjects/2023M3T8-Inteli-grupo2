{
  "nbformat": 4,
  "nbformat_minor": 0,
  "metadata": {
    "colab": {
      "provenance": []
    },
    "kernelspec": {
      "name": "python3",
      "display_name": "Python 3"
    },
    "language_info": {
      "name": "python"
    }
  },
  "cells": [
    {
      "cell_type": "code",
      "execution_count": 1,
      "metadata": {
        "colab": {
          "base_uri": "https://localhost:8080/"
        },
        "id": "cLlxpu527_a9",
        "outputId": "a33b5f28-4c40-466e-b906-bd23863a78a3"
      },
      "outputs": [
        {
          "output_type": "stream",
          "name": "stdout",
          "text": [
            "['ls_explorer_generalist' 'ls_change_generalist' 'ls_explorer_specialist'\n",
            " 'ls_explorer_hybrid' 'ls_change_specialist' 'ls_change_hybrid'\n",
            " 'ls_tireless_generalist' 'ls_order_specialist' 'ls_tireless_specialist'\n",
            " 'ls_order_hybrid' 'ls_tireless_hybrid' 'ls_order_generalist'\n",
            " 'ls_classic_specialist' 'ls_classic_hybrid' 'ls_classic_generalist']\n"
          ]
        }
      ],
      "source": [
        "import pandas as pd\n",
        "\n",
        "# Carregar o arquivo CSV em um DataFrame\n",
        "df = pd.read_csv(\"user_lifestyle.csv\")\n",
        "\n",
        "# Selecionar valores únicos da coluna \"key\"\n",
        "unique_values = df[\"key\"].unique()\n",
        "\n",
        "# Imprimir os valores únicos\n",
        "print(unique_values)"
      ]
    },
    {
      "cell_type": "markdown",
      "source": [
        "No código acima, selecionamos os valores únicos da coluna \"key\". Eles são variáveis categóricas e precisam ser transformadas em numéricas para que possamos trabalhar com elas."
      ],
      "metadata": {
        "id": "DykMZi2b8Z8M"
      }
    },
    {
      "cell_type": "markdown",
      "source": [
        "Agora, com os valores únicos encontrado na coluna \"key\", criamos um mapeamento para transformar os dados que, inicialmente são categórios, em numéricos."
      ],
      "metadata": {
        "id": "NUv0ZPB28ePc"
      }
    },
    {
      "cell_type": "code",
      "source": [
        "# Mapeamento de valores categóricos para valores numéricos\n",
        "mapping = {\n",
        "    'ls_explorer_generalist': 1, 'ls_change_generalist': 2,\n",
        "    'ls_explorer_specialist': 3, 'ls_explorer_hybrid': 4,\n",
        "    'ls_change_specialist': 5, 'ls_change_hybrid': 6,\n",
        "    'ls_tireless_generalist': 7, 'ls_order_specialist': 8,\n",
        "    'ls_tireless_specialist': 9, 'ls_order_hybrid': 10,\n",
        "    'ls_tireless_hybrid': 11, 'ls_order_generalist': 12,\n",
        "    'ls_classic_specialist': 13, 'ls_classic_hybrid': 14,\n",
        "    'ls_classic_generalist': 15\n",
        "}\n",
        "\n",
        "# Aplicar o mapeamento à coluna \"key\"\n",
        "df[\"key\"] = df[\"key\"].map(mapping)\n",
        "\n",
        "# Imprimir o DataFrame com os valores numéricos\n",
        "print(df)"
      ],
      "metadata": {
        "colab": {
          "base_uri": "https://localhost:8080/"
        },
        "id": "Mnwicot59V07",
        "outputId": "49f82b6c-42b8-43bf-da7e-aae9788fa5e4"
      },
      "execution_count": 2,
      "outputs": [
        {
          "output_type": "stream",
          "name": "stdout",
          "text": [
            "            id  key  lifestyle_classic  lifestyle_order  lifestyle_change  \\\n",
            "0      1019062    1                2.5              4.0               4.0   \n",
            "1      1019131    2                1.0              2.5               6.0   \n",
            "2      1019138    1                1.5              1.5               4.0   \n",
            "3      1017352    3                1.0              2.5               4.5   \n",
            "4      1019110    1                1.5              3.0               3.5   \n",
            "...        ...  ...                ...              ...               ...   \n",
            "67503  1019095    7                1.0              3.0               3.0   \n",
            "67504  1019122    8                3.0              6.0               5.0   \n",
            "67505  1019119    1                1.0              4.0               3.0   \n",
            "67506  1018596   11                2.5              4.5               5.0   \n",
            "67507  1019143    2                2.5              4.5               6.0   \n",
            "\n",
            "       lifestyle_tireless  lifestyle_explorer  lifestyle_specialist  \\\n",
            "0                     5.0                 5.5                   1.0   \n",
            "1                     4.5                 4.5                   0.0   \n",
            "2                     6.0                 8.5                   2.0   \n",
            "3                     3.5                 6.0                   4.0   \n",
            "4                     4.0                 6.0                   0.0   \n",
            "...                   ...                 ...                   ...   \n",
            "67503                 6.5                 5.5                   2.0   \n",
            "67504                 3.5                 3.5                   4.0   \n",
            "67505                 4.5                 6.0                   0.0   \n",
            "67506                 5.5                 3.5                   1.0   \n",
            "67507                 5.0                 6.0                   0.0   \n",
            "\n",
            "       lifestyle_generalist  lifestyle_hybrid  \n",
            "0                       3.0               0.0  \n",
            "1                       3.0               1.0  \n",
            "2                       3.0               0.0  \n",
            "3                       0.0               0.0  \n",
            "4                       4.0               0.0  \n",
            "...                     ...               ...  \n",
            "67503                   3.0               0.0  \n",
            "67504                   0.0               0.0  \n",
            "67505                   3.0               2.0  \n",
            "67506                   1.0               2.0  \n",
            "67507                   3.0               1.0  \n",
            "\n",
            "[67508 rows x 10 columns]\n"
          ]
        }
      ]
    },
    {
      "cell_type": "markdown",
      "source": [
        "Por fim, importamos esse dataframe para um novo arquivo CSV."
      ],
      "metadata": {
        "id": "kimIxrF69p0E"
      }
    },
    {
      "cell_type": "code",
      "source": [
        "df.to_csv(\"prep_df_user_lifestyle.csv\", index=False)"
      ],
      "metadata": {
        "id": "as2anAqn9tDv"
      },
      "execution_count": 3,
      "outputs": []
    }
  ]
}