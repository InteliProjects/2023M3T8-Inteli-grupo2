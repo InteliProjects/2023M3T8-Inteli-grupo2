{
  "nbformat": 4,
  "nbformat_minor": 0,
  "metadata": {
    "colab": {
      "provenance": []
    },
    "kernelspec": {
      "name": "python3",
      "display_name": "Python 3"
    },
    "language_info": {
      "name": "python"
    }
  },
  "cells": [
    {
      "cell_type": "code",
      "execution_count": 3,
      "metadata": {
        "colab": {
          "base_uri": "https://localhost:8080/"
        },
        "id": "YBNhVlizHIGm",
        "outputId": "d9e61a24-3e8f-47a8-a7d4-f44fa315bc94"
      },
      "outputs": [
        {
          "output_type": "stream",
          "name": "stdout",
          "text": [
            "['Procurar emprego' 'Melhorar minha carreira' 'Autoconhecimento'\n",
            " 'Desenvolvimento Pessoal']\n"
          ]
        }
      ],
      "source": [
        "import pandas as pd\n",
        "\n",
        "# Carregar o arquivo CSV em um DataFrame\n",
        "df = pd.read_csv(\"user_objectives.csv\")\n",
        "\n",
        "# Selecionar valores únicos da coluna \"key\"\n",
        "unique_values = df[\"name\"].unique()\n",
        "\n",
        "# Imprimir os valores únicos\n",
        "print(unique_values)"
      ]
    },
    {
      "cell_type": "markdown",
      "source": [
        "No código acima, selecionamos os valores únicos da coluna \"key\". Eles são variáveis categóricas e precisam ser transformadas em numéricas para que possamos trabalhar com elas."
      ],
      "metadata": {
        "id": "sgkTW29lS4fq"
      }
    },
    {
      "cell_type": "code",
      "source": [
        "# Mapeamento de valores categóricos para valores numéricos\n",
        "mapping = {\n",
        "    'Procurar emprego': 1, 'Melhorar minha carreira': 2, 'Autoconhecimento': 3, 'Desenvolvimento Pessoal': 4,\n",
        "}\n",
        "\n",
        "# Aplicar o mapeamento à coluna \"key\"\n",
        "df[\"name\"] = df[\"name\"].map(mapping)\n",
        "\n",
        "# Imprimir o DataFrame com os valores numéricos\n",
        "print(df)"
      ],
      "metadata": {
        "colab": {
          "base_uri": "https://localhost:8080/"
        },
        "id": "wz0mikkTS96H",
        "outputId": "36739da8-f044-4411-be2e-68bbcfd76423"
      },
      "execution_count": 4,
      "outputs": [
        {
          "output_type": "stream",
          "name": "stdout",
          "text": [
            "            id  name\n",
            "0      1022022     1\n",
            "1       378020     1\n",
            "2       378020     2\n",
            "3      1022022     3\n",
            "4      1022022     4\n",
            "...        ...   ...\n",
            "48877  1082284     2\n",
            "48878  1082284     4\n",
            "48879  1091136     1\n",
            "48880  1091136     4\n",
            "48881  1099482     2\n",
            "\n",
            "[48882 rows x 2 columns]\n"
          ]
        }
      ]
    },
    {
      "cell_type": "markdown",
      "source": [
        "Por fim, vamos somente exportar os dados para um novo arquivo CSV."
      ],
      "metadata": {
        "id": "J_MQIu6pUiqw"
      }
    },
    {
      "cell_type": "code",
      "source": [
        "df.to_csv(\"prep_df_user_objectives.csv\", index=False)"
      ],
      "metadata": {
        "id": "efJd-yslUfUN"
      },
      "execution_count": null,
      "outputs": []
    }
  ]
}