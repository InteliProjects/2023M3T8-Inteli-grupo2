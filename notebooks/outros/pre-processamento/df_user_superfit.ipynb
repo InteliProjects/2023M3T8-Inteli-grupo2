{
  "nbformat": 4,
  "nbformat_minor": 0,
  "metadata": {
    "colab": {
      "provenance": []
    },
    "kernelspec": {
      "name": "python3",
      "display_name": "Python 3"
    },
    "language_info": {
      "name": "python"
    }
  },
  "cells": [
    {
      "cell_type": "code",
      "execution_count": null,
      "metadata": {
        "colab": {
          "base_uri": "https://localhost:8080/"
        },
        "id": "dY58JwZMzDP0",
        "outputId": "764d8e38-7364-4703-cbc8-3e992a63d271"
      },
      "outputs": [
        {
          "output_type": "stream",
          "name": "stdout",
          "text": [
            "['SF_DR' 'SF_DS' 'SF_DI' 'SF_SC' 'SF_SR' 'SF_IR' 'SF_SI' 'SF_DC' 'SF_IE'\n",
            " 'SF_DE' 'SF_ER' 'SF_CI' 'SF_generic' 'SF_SE' 'SF_CE' 'SF_CR']\n"
          ]
        }
      ],
      "source": [
        "import pandas as pd\n",
        "\n",
        "# Carregar o arquivo CSV em um DataFrame\n",
        "df = pd.read_csv(\"user_superfit.csv\")\n",
        "\n",
        "# Selecionar valores únicos da coluna \"key\"\n",
        "unique_values = df[\"key\"].unique()\n",
        "\n",
        "# Imprimir os valores únicos\n",
        "print(unique_values)\n"
      ]
    },
    {
      "cell_type": "markdown",
      "source": [
        "No código acima, selecionamos os valores únicos da coluna \"key\". Eles são variáveis categóricas e precisam ser transformadas em numéricas para que possamos trabalhar com elas."
      ],
      "metadata": {
        "id": "XKHT17Y1z6_g"
      }
    },
    {
      "cell_type": "markdown",
      "source": [
        "Importante mensurar que o valor \"SF_generic\" não deveria estar aparecendo entre os dados, pois ele não possui valor significativo pra gente. Por isso, vamos remover as colunas que apresentem esse valor."
      ],
      "metadata": {
        "id": "DE7SzLZf1lhD"
      }
    },
    {
      "cell_type": "code",
      "source": [
        "# Remover linhas com o valor \"SF_generic\" na coluna \"key\"\n",
        "df = df.loc[df[\"key\"] != \"SF_generic\"]\n",
        "\n",
        "# Resetar os índices após a remoção\n",
        "df.reset_index(drop=True, inplace=True)"
      ],
      "metadata": {
        "id": "gLKcriW816FB"
      },
      "execution_count": null,
      "outputs": []
    },
    {
      "cell_type": "markdown",
      "source": [
        "Agora, com os valores únicos encontrado na coluna \"key\", criamos um mapeamento para transformar os dados que, inicialmente são categórios, em numéricos."
      ],
      "metadata": {
        "id": "7agbbVLD18mf"
      }
    },
    {
      "cell_type": "code",
      "source": [
        "# Mapeamento de valores categóricos para valores numéricos\n",
        "mapping = {\n",
        "    'SF_DR': 1, 'SF_DS': 2, 'SF_DI': 3, 'SF_SC': 4, 'SF_SR': 5,\n",
        "    'SF_IR': 6, 'SF_SI': 7, 'SF_DC': 8, 'SF_IE': 9, 'SF_DE': 10,\n",
        "    'SF_ER': 11, 'SF_CI': 12, 'SF_SE': 13, 'SF_CE': 14, 'SF_CR': 15\n",
        "}\n",
        "\n",
        "# Aplicar o mapeamento à coluna \"key\"\n",
        "df[\"key\"] = df[\"key\"].map(mapping)\n",
        "\n",
        "# Imprimir o DataFrame com os valores numéricos\n",
        "print(df)"
      ],
      "metadata": {
        "colab": {
          "base_uri": "https://localhost:8080/"
        },
        "id": "s8wSsAQd0w1x",
        "outputId": "744e2feb-9b99-41be-b538-afaa1aafe20f"
      },
      "execution_count": null,
      "outputs": [
        {
          "output_type": "stream",
          "name": "stdout",
          "text": [
            "            id  key  superfit_dis  superfit_sin  superfit_cur  superfit_int  \\\n",
            "0      1018194    1          60.0          50.0          48.0          50.0   \n",
            "1      1018228    2          58.0          54.0          44.0          52.0   \n",
            "2      1018214    1          68.0          54.0          56.0          52.0   \n",
            "3      1018221    2          58.0          50.0          14.0          36.0   \n",
            "4      1016674    2          62.0          56.0          48.0          52.0   \n",
            "...        ...  ...           ...           ...           ...           ...   \n",
            "73671  1015053   10          58.0          44.0          38.0          48.0   \n",
            "73672  1018159   13          50.0          58.0          54.0          52.0   \n",
            "73673  1018186    2          62.0          60.0          40.0          46.0   \n",
            "73674  1018173    1          38.0          28.0          10.0          14.0   \n",
            "73675  1016986    2          56.0          50.0          48.0          46.0   \n",
            "\n",
            "       superfit_eng  superfit_res  \n",
            "0              50.0          66.0  \n",
            "1              50.0          42.0  \n",
            "2              58.0          62.0  \n",
            "3              32.0          46.0  \n",
            "4              54.0          54.0  \n",
            "...             ...           ...  \n",
            "73671          48.0          36.0  \n",
            "73672          62.0          56.0  \n",
            "73673          34.0          54.0  \n",
            "73674          16.0          34.0  \n",
            "73675          38.0          46.0  \n",
            "\n",
            "[73676 rows x 8 columns]\n"
          ]
        }
      ]
    },
    {
      "cell_type": "markdown",
      "source": [
        "Por fim, vamos somente exportar os dados para um novo arquivo CSV."
      ],
      "metadata": {
        "id": "cigQBpXW2q5N"
      }
    },
    {
      "cell_type": "code",
      "source": [
        "df.to_csv(\"prep_df_user_superfit.csv\", index=False)"
      ],
      "metadata": {
        "id": "uVS5tfkT2WTj"
      },
      "execution_count": 9,
      "outputs": []
    }
  ]
}