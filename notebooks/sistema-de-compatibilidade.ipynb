{
  "nbformat": 4,
  "nbformat_minor": 0,
  "metadata": {
    "colab": {
      "provenance": []
    },
    "kernelspec": {
      "name": "python3",
      "display_name": "Python 3"
    },
    "language_info": {
      "name": "python"
    }
  },
  "cells": [
    {
      "cell_type": "markdown",
      "source": [
        "### Código do projeto com base em caso de prova."
      ],
      "metadata": {
        "id": "gKCTHcBunhwP"
      }
    },
    {
      "cell_type": "markdown",
      "source": [
        "Este código em Python realiza uma série de operações relacionadas à análise de compatibilidade de gestores com base nas competências e características setadas pelas tabelas que foram utilizadas.\n",
        "\n",
        "Resumidamente, este código lê um arquivo CSV que foi carregado como \"gestores.csv\" contendo as devidas informações sobre os gestores.\n",
        "\n",
        "Calcula a compatibilidade entre um candidato específico e esses gestores com base em diferentes competências e características de trabalho, e gera um gráfico de dispersão mostrando os gestores em relação às pontuações de resolução e engajamento.\n",
        "\n",
        "A compatibilidade é calculada usando uma função de distância euclidiana modificada e os gestores são classificados com base em sua compatibilidade com o candidato e o resultado é exibido no final."
      ],
      "metadata": {
        "id": "Mn3G2obGvpXd"
      }
    },
    {
      "cell_type": "code",
      "execution_count": null,
      "metadata": {
        "id": "N4twvMX1nfyS"
      },
      "outputs": [],
      "source": [
        "# Importação das bibliotecas necessárias para construir o código\n",
        "# pandas abreviamos como pd; math é de matemática; matplotlib.pyplot abreviamos como plt serve para os gráficos plotados\n",
        "import pandas as pd\n",
        "import math\n",
        "import matplotlib.pyplot as plt\n",
        "\n",
        "# Leitura e carregamento do arquivo CSV \"gestores.csv\" para um DataFrame chamado \"gestores\"\n",
        "gestores = pd.read_csv(\"gestores.csv\")\n",
        "\n",
        "# Criação de uma coluna \"compatibilidade\" inicializada com zeros\n",
        "gestores['compatibilidade'] = 0\n",
        "\n",
        "# Impressão das primeiras linhas da tabela \"gestores\"\n",
        "print(gestores.head())\n",
        "\n",
        "# Listas de competências relevantes que estamos usando para superfit e workstyle\n",
        "competencias_superfit = ['score_res', 'score_eng', 'score_int', 'score_cur', 'score_sin', 'score_dis']\n",
        "competencias_workstyle = ['score_classic', 'score_order', 'score_change', 'score_tireless', 'score_explorer']\n",
        "tipo_workstyle = ['score_specialist', 'score_generalist']\n",
        "\n",
        "# Criação de um DataFrame chamado \"candidato\" com pontuações para competências e características de trabalho\n",
        "# Isso representa um candidato específico\n",
        "candidato = pd.DataFrame({\n",
        "    'score_res': [46/90],\n",
        "    'score_eng': [60/90],\n",
        "    'score_int': [58/90],\n",
        "    'score_cur': [48/90],\n",
        "    'score_sin': [48/90],\n",
        "    'score_dis': [48/90],\n",
        "    'score_specialist': [0.4],\n",
        "    'score_generalist': [0.6],\n",
        "    'score_classic': [0.0],\n",
        "    'score_order': [0.2222222222222222],\n",
        "    'score_change': [0.4444444444444444],\n",
        "    'score_tireless': [0.6666666666666666],\n",
        "    'score_explorer': [0.3888888888888889]\n",
        "})\n",
        "\n",
        "# Cria um gráfico de dispersão entre \"score_res\" e \"score_eng\" dos gestores\n",
        "plt.scatter(gestores['score_res'], gestores['score_eng'])\n",
        "\n",
        "# Define uma função para calcular a compatibilidade entre o candidato e um gestor\n",
        "def calcular_compatibilidade(x1, y1, x2, y2):\n",
        "    distancia_x = x2 - x1\n",
        "    distancia_y = y2 - y1\n",
        "    distancia = -math.sqrt(distancia_x**2 + distancia_y**2)\n",
        "\n",
        "    if distancia >= 0:\n",
        "        return math.ceil((1 - distancia) * 100)\n",
        "    else:\n",
        "        if (1 - (2 * distancia)) < 0:\n",
        "            return 0\n",
        "        else:\n",
        "            return math.ceil((1 + (2 * distancia)) * 100)\n",
        "\n",
        "# Calcula a compatibilidade utilizando competências do tipo \"superfit\"\n",
        "# que foram usados no início do código\n",
        "for competencia1 in gestores:\n",
        "    for competencia2 in gestores:\n",
        "        if competencia1 != competencia2 and competencia1 in competencias_superfit and competencia2 in competencias_superfit:\n",
        "            gestores['compatibilidade'] += gestores.apply(lambda row: calcular_compatibilidade(candidato.at[0, competencia1], candidato.at[0, competencia2], row[competencia1], row[competencia2]), axis=1)\n",
        "    print(\"Finalizei o primeiro for\")\n",
        "\n",
        "# Calcula a compatibilidade utilizando competências do tipo \"workstyle\"\n",
        "# que também foram usados no início do código\n",
        "for competencia1 in gestores:\n",
        "    for competencia2 in gestores:\n",
        "        if competencia1 != competencia2 and competencia1 in competencias_workstyle and competencia2 in competencias_workstyle:\n",
        "            gestores['compatibilidade'] += gestores.apply(lambda row: calcular_compatibilidade(candidato.at[0, competencia1], candidato.at[0, competencia2], row[competencia1], row[competencia2]), axis=1)\n",
        "\n",
        "# Calcula a compatibilidade utilizando características do tipo \"workstyle\"\n",
        "for competencia1 in gestores:\n",
        "    for competencia2 in gestores:\n",
        "        if competencia1 != competencia2 and competencia1 in tipo_workstyle and competencia2 in tipo_workstyle:\n",
        "            gestores['compatibilidade'] += gestores.apply(lambda row: calcular_compatibilidade(candidato.at[0, competencia1], candidato.at[0, competencia2], row[competencia1], row[competencia2]), axis=1)\n",
        "\n",
        "# Normaliza a coluna \"compatibilidade\" dividindo por 52 e arredonda para cima\n",
        "gestores['compatibilidade'] = gestores['compatibilidade'].div(52)\n",
        "gestores['compatibilidade'] = gestores['compatibilidade'].apply(lambda x: math.ceil(x))\n",
        "\n",
        "# Define rótulos para os eixos x e y para poder criar o gráfico\n",
        "plt.xlabel('Score de Resolução')\n",
        "plt.ylabel('Score de Engajamento')\n",
        "\n",
        "# Define um título para o gráfico\n",
        "plt.title('Gráfico de Dispersão entre Score de Resolução e Score de Engajamento')\n",
        "\n",
        "# Ordena o DataFrame \"gestores\" com base na coluna \"compatibilidade\" em ordem decrescente\n",
        "# para ter uma melhor noção de como os dados estão dispostos\n",
        "gestores = gestores.sort_values(by='compatibilidade', ascending=False)\n",
        "\n",
        "# Configura para exibir todas as linhas do DataFrame ao imprimir\n",
        "pd.set_option('display.max_rows', None)\n",
        "\n",
        "# Imprime o DataFrame \"gestores\" ordenado por compatibilidade\n",
        "print(gestores)"
      ]
    }
  ]
}